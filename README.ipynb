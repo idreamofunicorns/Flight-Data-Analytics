{
 "cells": [
  {
   "cell_type": "markdown",
   "id": "30b80bc1",
   "metadata": {},
   "source": [
    "# Flight Data Analytics\n",
    "\n",
    "## Overview\n",
    "Flight Data Analytics analyzes aviation accident data to identify aircraft with the lowest risk for business expansion. The analysis leverages accident data to inform decisions on aircraft acquisition for commercial and private enterprises.\n",
    "\n",
    "## Business Problem\n",
    "Our company is expanding into aviation and needs to evaluate potential risks associated with different aircraft. The goal is to determine which aircraft are safest and align with the company’s new aviation business venture.\n",
    "\n",
    "## Data Understanding\n",
    "The data is sourced from the National Transportation Safety Board (NTSB), covering aviation accidents from 1962 to 2023. It includes accident severity, aircraft type, injury statistics, and more.\n",
    "\n",
    "## Methods\n",
    "We apply data analysis techniques to clean and prepare the data, visualize key trends, and perform risk assessments on aircraft types.\n",
    "\n",
    "## Visualizations\n",
    "1. Injury Severity distribution by Aircraft Category.\n",
    "2. Trends in accidents over time by aircraft make.\n",
    "3. Analysis of accident severity by weather condition.\n",
    "\n",
    "## Conclusion\n",
    "Key insights will guide decisions on aircraft purchases to minimize risk for the new aviation division. Concrete recommendations will follow from the analysis. "
   ]
  }
 ],
 "metadata": {
  "kernelspec": {
   "display_name": "Python 3 (ipykernel)",
   "language": "python",
   "name": "python3"
  },
  "language_info": {
   "codemirror_mode": {
    "name": "ipython",
    "version": 3
   },
   "file_extension": ".py",
   "mimetype": "text/x-python",
   "name": "python",
   "nbconvert_exporter": "python",
   "pygments_lexer": "ipython3",
   "version": "3.12.3"
  }
 },
 "nbformat": 4,
 "nbformat_minor": 5
}
